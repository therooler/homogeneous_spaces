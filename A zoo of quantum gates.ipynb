{
 "cells": [
  {
   "cell_type": "code",
   "execution_count": 1,
   "metadata": {},
   "outputs": [],
   "source": [
    "import scipy.linalg as spla\n",
    "import numpy as np\n",
    "import itertools\n",
    "\n",
    "from src.reductive_geometry import get_pauli_basis, VectorSpace, comm"
   ]
  },
  {
   "cell_type": "markdown",
   "metadata": {},
   "source": [
    "$\n",
    "\\newcommand{\\SU}{\\mathrm{SU}}\n",
    "\\newcommand{\\U}{\\mathrm{U}}\n",
    "\\newcommand{\\Stab}{\\mathrm{Stab}}\n",
    "\\newcommand{\\SO}{\\mathrm{SO}}\n",
    "\\newcommand{\\Sp}{\\mathrm{Sp}}\n",
    "\\newcommand{\\su}{\\mathfrak{su}}\n",
    "\\newcommand{\\so}{\\mathfrak{so}}\n",
    "\\newcommand{\\gl}{\\mathfrak{gl}}\n",
    "\\renewcommand{\\sp}{\\mathfrak{sp}}\n",
    "\\renewcommand{\\gg}{\\mathfrak{g}}\n",
    "\\newcommand{\\uu}{\\mathfrak{u}}\n",
    "\\newcommand{\\kk}{\\mathfrak{k}}\n",
    "\\newcommand{\\mm}{\\mathfrak{m}}\n",
    "\\newcommand{\\oo}{\\mathfrak{o}}\n",
    "\\newcommand{\\hh}{\\mathfrak{h}}\n",
    "\\renewcommand{\\tt}{\\mathfrak{t}}\n",
    "\\newcommand{\\Span}{\\mathrm{span}}\n",
    "$"
   ]
  },
  {
   "cell_type": "code",
   "execution_count": 2,
   "metadata": {},
   "outputs": [],
   "source": [
    "def format_coeffs(coeffs, names):\n",
    "    assert len(coeffs)==len(names)\n",
    "    str_rep = \"\"\n",
    "    for i, c_i in enumerate(coeffs):\n",
    "        if not np.isclose(c_i,0.):\n",
    "            str_rep = str_rep + f\"{c_i:1.5f}*{names[i]} + \"\n",
    "    return str_rep[:-2]"
   ]
  },
  {
   "cell_type": "markdown",
   "metadata": {
    "collapsed": true,
    "pycharm": {
     "name": "#%%\n"
    }
   },
   "source": [
    "# Different homogeneous space $G/K$\n",
    "\n",
    "In this notebook, we will explore how to find the tangent space parameterization $T_{G/K}\\:gK \\cong \\mathfrak{m}$ for a given $G$ and $K$ and associated Lie algebras $\\mathfrak{g}$ and $\\mathfrak{k}$."
   ]
  },
  {
   "cell_type": "code",
   "execution_count": 3,
   "metadata": {},
   "outputs": [],
   "source": [
    "su2_dict = get_pauli_basis(1)\n",
    "su4_dict = get_pauli_basis(2)\n",
    "su2_names = list(su2_dict.keys())\n",
    "su4_names = list(su4_dict.keys())\n",
    "su2_vspace = VectorSpace(np.stack(list(su2_dict.values())))\n",
    "su4_vspace = VectorSpace(np.stack(list(su4_dict.values())))"
   ]
  },
  {
   "cell_type": "code",
   "execution_count": 4,
   "metadata": {},
   "outputs": [],
   "source": [
    "so4 = ['IY', 'XY', 'YI', 'YX', 'YZ', 'ZY']\n",
    "so4_dict = dict(zip(so4, [su4_dict[p] for p in so4]))    \n",
    "so4_names = list(so4_dict.keys())\n",
    "so4_vspace = VectorSpace(np.stack(list(so4_dict.values())))"
   ]
  },
  {
   "cell_type": "markdown",
   "metadata": {},
   "source": [
    "## 1.) $\\SU(2)/\\U(1)$"
   ]
  },
  {
   "cell_type": "markdown",
   "metadata": {},
   "source": [
    "By inspection, we quickly find\n",
    "\n",
    "$$\n",
    "\\begin{align}\n",
    "\\gg &= \\Span\\{X,Y,Z\\} \\\\\n",
    "\\kk &= \\Span\\{Z\\}\\\\\n",
    "\\mm &= \\Span\\{X,Y\\}\\\\\n",
    "\\end{align}\n",
    "$$\n",
    "clearly the center is $\\mathfrak{z}(\\kk) = \\Span\\{Z\\}$ and $\\gg^\\kk = 0$."
   ]
  },
  {
   "cell_type": "code",
   "execution_count": 5,
   "metadata": {},
   "outputs": [],
   "source": [
    "g = su2_vspace.basis.copy()\n",
    "k = su2_dict[\"Z\"]\n",
    "m = [su2_dict[\"X\"], su2_dict[\"Y\"]]"
   ]
  },
  {
   "cell_type": "markdown",
   "metadata": {},
   "source": [
    "## 2.) $\\SU(4)/\\U(2)$ (spin 1/2)"
   ]
  },
  {
   "cell_type": "markdown",
   "metadata": {},
   "source": [
    "The basis for $\\su(4)$ is given by tensor products of Pauli matrices.\n",
    "\n",
    "$$\n",
    "\\begin{align}\n",
    "    \\gg &= i\\,\\Span\\{IX, IY, IZ, XI, XX, XY, XZ, YI, YX, YY, YZ, ZI, ZX, ZY, ZZ\\} \n",
    "\\end{align}\n",
    "$$\n",
    "\n",
    "It's clear that\n",
    "\n",
    "$$\n",
    "\\begin{align}\n",
    "    \\kk &= i\\,\\Span\\{XI+IX, YI+IY, ZI + IZ\\}\n",
    "\\end{align}\n",
    "$$\n",
    "\n",
    "satisfies the commutation relations of $\\su(2)$. We now have a trivial center $\\mathfrak{z}(\\kk)=0$. To find the space $\\mm$, we use a nullspace methodx to find the elements of $\\gg$ that are orthogonal to $\\kk$. "
   ]
  },
  {
   "cell_type": "code",
   "execution_count": 6,
   "metadata": {
    "scrolled": true
   },
   "outputs": [
    {
     "name": "stdout",
     "output_type": "stream",
     "text": [
      "Dimension of m: 12\n",
      "-0.70711*IX + 0.70711*XI \n",
      "1.00000*XX \n",
      "1.00000*XY \n",
      "1.00000*XZ \n",
      "-0.70711*IY + 0.70711*YI \n",
      "1.00000*YX \n",
      "1.00000*YY \n",
      "1.00000*YZ \n",
      "-0.70711*IZ + 0.70711*ZI \n",
      "1.00000*ZX \n",
      "1.00000*ZY \n",
      "1.00000*ZZ \n"
     ]
    }
   ],
   "source": [
    "I = np.eye(2, dtype=complex)\n",
    "g = VectorSpace(su4_vspace.basis)\n",
    "# Create the su(2) basis within su(4)\n",
    "k = np.stack([np.kron(su2_dict['X'], I) + np.kron(I, su2_dict['X']),\n",
    "                      np.kron(su2_dict['Y'], I) + np.kron(I, su2_dict['Y']),\n",
    "                      np.kron(su2_dict['Z'], I) + np.kron(I, su2_dict['Z'])]) / 2\n",
    "subspace_k = []\n",
    "# Embed k in g\n",
    "for i, p in enumerate(k):\n",
    "    subspace_k.append(g.project_coeffs(p))\n",
    "    \n",
    "# Find the kernel of k\n",
    "k_ortho = spla.null_space(np.stack(subspace_k))\n",
    "m = np.einsum(\"in,ijk->njk\", k_ortho, g.basis)\n",
    "\n",
    "# Print the basis of m in terms of the pauli matrices\n",
    "print(\"Dimension of m:\", m.shape[0])\n",
    "for m_i in m:\n",
    "    coeffs = g.project_coeffs(m_i).real\n",
    "    print(format_coeffs(coeffs, su4_names))\n",
    "    "
   ]
  },
  {
   "cell_type": "markdown",
   "metadata": {},
   "source": [
    "Hence\n",
    "\n",
    "$$\n",
    "\\begin{align}\n",
    " \\mm=i\\,\\Span\\{XX,XY,XZ,YX,YY,YZ, ZX,ZY,ZZ, XI-IX, YI-IY, ZI - IZ\\}\n",
    "\\end{align}\n",
    "$$\n",
    "\n",
    "By the the Schur-Weyl duality, we find that $\\gg_o^\\kk = \\mathrm{SWAP}$:"
   ]
  },
  {
   "cell_type": "code",
   "execution_count": 7,
   "metadata": {},
   "outputs": [],
   "source": [
    "swap = np.array([[1,0,0,0],\n",
    "                 [0,1,0,0],\n",
    "                 [0,0,1,0],\n",
    "                 [0,0,0,1]])\n",
    "# Swap commutes with the full basis.\n",
    "for g_i in g.basis:\n",
    "    assert np.allclose(comm(swap,g_i), np.zeros_like(swap))\n",
    "    "
   ]
  },
  {
   "cell_type": "markdown",
   "metadata": {},
   "source": [
    "## 3.) $\\SU(4) / (I_2 \\times \\SU(2))$"
   ]
  },
  {
   "cell_type": "markdown",
   "metadata": {},
   "source": [
    "The basis for $\\su(4)$ is given by tensor products of Pauli matrices.\n",
    "\n",
    "$$\n",
    "\\begin{align}\n",
    "\\gg &= i\\,\\Span\\{IX, IY, IZ, XI, XX, XY, XZ, YI, YX, YY, YZ, ZI, ZX, ZY, ZZ\\} \\\\\n",
    "\\end{align}\n",
    "$$\n",
    "\n",
    "A basis for $\\kk$ is \n",
    "\n",
    "$$\n",
    "\\begin{align}\n",
    "    \\kk &= i\\,\\Span\\{0_2\\oplus X, 0_2\\oplus Y,0_2\\oplus Z\\}\n",
    "\\end{align}\n",
    "$$\n",
    "where $0_2$ is a zero matrix of size $2\\times 2$. The center is trivial $\\mathfrak{z}(\\kk)=0$"
   ]
  },
  {
   "cell_type": "code",
   "execution_count": 8,
   "metadata": {
    "scrolled": true
   },
   "outputs": [
    {
     "name": "stdout",
     "output_type": "stream",
     "text": [
      "Dimension of m: 12\n",
      "1.00000*XI \n",
      "1.00000*XX \n",
      "1.00000*XY \n",
      "1.00000*XZ \n",
      "1.00000*YI \n",
      "1.00000*YX \n",
      "1.00000*YY \n",
      "1.00000*YZ \n",
      "1.00000*ZI \n",
      "0.70711*IX + 0.70711*ZX \n",
      "0.70711*IY + 0.70711*ZY \n",
      "0.70711*IZ + 0.70711*ZZ \n"
     ]
    }
   ],
   "source": [
    "I = np.eye(2, dtype=complex)\n",
    "g = VectorSpace(su4_vspace.basis)\n",
    "k = []\n",
    "for term in su2_vspace.basis:\n",
    "    k.append(np.block([[np.zeros((2,2)), np.zeros((2,2))],\n",
    "                       [np.zeros((2,2)), term]]))\n",
    "subspace_k = []\n",
    "# Embed k in g\n",
    "for i, p in enumerate(k):\n",
    "    subspace_k.append(g.project_coeffs(p))\n",
    "# Find the kernel of k\n",
    "k_ortho = spla.null_space(np.stack(subspace_k))\n",
    "m = np.einsum(\"in,ijk->njk\", k_ortho, g.basis)\n",
    "# Print the basis of m in terms of the pauli matrices\n",
    "print(\"Dimension of m:\", m.shape[0])\n",
    "for m_i in m:\n",
    "    coeffs = g.project_coeffs(m_i).real\n",
    "    print(format_coeffs(coeffs, su4_names))"
   ]
  },
  {
   "cell_type": "markdown",
   "metadata": {},
   "source": [
    "Hence\n",
    "\n",
    "$$\n",
    "\\begin{align}\n",
    "     \\mm=i\\,\\Span\\{XI, XX ,XY ,XZ ,YI ,YX ,YY ,YZ ,ZI ,IX + ZX ,IY + ZY ,IZ + ZZ \\}\n",
    "\\end{align}\n",
    "$$\n",
    "**TODO:** What is $\\gg^\\kk_o$?"
   ]
  },
  {
   "cell_type": "markdown",
   "metadata": {},
   "source": [
    "## 4.) $\\SU(4)/\\SU(2)$ (spin 3/2)"
   ]
  },
  {
   "cell_type": "markdown",
   "metadata": {},
   "source": [
    "The basis for $\\su(4)$ is given by tensor products of Pauli matrices.\n",
    "\n",
    "$$\n",
    "\\begin{align}\n",
    "\\gg &= i\\,\\Span\\{IX, IY, IZ, XI, XX, XY, XZ, YI, YX, YY, YZ, ZI, ZX, ZY, ZZ\\} \\\\\n",
    "\\end{align}\n",
    "$$\n",
    "\n",
    "A basis for $\\kk$ is \n",
    "\n",
    "$$\n",
    "\\begin{align}\n",
    "    \\kk &= i\\:\\Span\\{S_x, S_y, S_z\\}\n",
    "\\end{align}\n",
    "$$\n",
    "\n",
    "with \n",
    "\n",
    "$$\n",
    "\\begin{align}\n",
    "S_x &= \\begin{bmatrix}\n",
    "    0 & \\sqrt{3} & 0 & 0 \\\\\n",
    "    \\sqrt{3} & 0 & 2 & 0 \\\\\n",
    "    0 & 2 & 0 & \\sqrt{3} \\\\\n",
    "    0 & 0 & \\sqrt{3} & 0 \\\\\n",
    "    \\end{bmatrix},\\quad S_y = \\begin{bmatrix}\n",
    "    0 & -i\\sqrt{3} & 0 & 0 \\\\\n",
    "    i\\sqrt{3} & 0 & -2i & 0 \\\\\n",
    "    0 & 2i & 0 & -i\\sqrt{3} \\\\\n",
    "    0 & 0 & i\\sqrt{3} & 0 \\\\\n",
    "    \\end{bmatrix},\\quad S_z = \\begin{bmatrix}\n",
    "    3 & 0 & 0 & 0 \\\\\n",
    "    0 & 1 & 0 & 0 \\\\\n",
    "    0 & 0 & -1 & 0 \\\\\n",
    "    0 & 0 & 0 & -3 \\\\\n",
    "    \\end{bmatrix},\n",
    "\\end{align}\n",
    "$$\n",
    "\n",
    "we find $\\mm$ via the null space method."
   ]
  },
  {
   "cell_type": "code",
   "execution_count": 9,
   "metadata": {
    "scrolled": true
   },
   "outputs": [
    {
     "name": "stdout",
     "output_type": "stream",
     "text": [
      "Dimension of m: 12\n",
      "1.00000*XI \n",
      "-0.44721*IX + 0.88730*XX + -0.11270*YY \n",
      "0.44721*IY + 0.88730*XY + 0.11270*YX \n",
      "1.00000*XZ \n",
      "1.00000*YI \n",
      "-0.44721*IY + 0.11270*XY + 0.88730*YX \n",
      "-0.44721*IX + -0.11270*XX + 0.88730*YY \n",
      "1.00000*YZ \n",
      "-0.89443*IZ + 0.44721*ZI \n",
      "1.00000*ZX \n",
      "1.00000*ZY \n",
      "1.00000*ZZ \n"
     ]
    }
   ],
   "source": [
    "g = VectorSpace(su4_vspace.basis)\n",
    "Sx = np.array([[0, np.sqrt(3), 0, 0],\n",
    "               [np.sqrt(3), 0, 2, 0],\n",
    "               [0, 2, 0, np.sqrt(3)],\n",
    "               [0, 0, np.sqrt(3), 0]]) / 2\n",
    "Sy = np.array([[0, -1j * np.sqrt(3), 0, 0],\n",
    "               [1j * np.sqrt(3), 0, -2j, 0],\n",
    "               [0, 2j, 0, -1j * np.sqrt(3)],\n",
    "               [0, 0, 1j * np.sqrt(3), 0]]) / 2\n",
    "Sz = np.array([[3, 0, 0, 0],\n",
    "               [0, 1, 0, 0],\n",
    "               [0, 0, -1, 0],\n",
    "               [0, 0, 0, -3]]) / 2\n",
    "k = np.stack([Sx, Sy, Sz])\n",
    "\n",
    "subspace_k = []\n",
    "# Embed k in g\n",
    "for i, p in enumerate(k):\n",
    "    subspace_k.append(g.project_coeffs(p))\n",
    "    \n",
    "# Find the kernel of k\n",
    "k_ortho = spla.null_space(np.stack(subspace_k))\n",
    "m = np.einsum(\"in,ijk->njk\", k_ortho, g.basis)\n",
    "\n",
    "# Print the basis of m in terms of the pauli matrices\n",
    "print(\"Dimension of m:\", m.shape[0])\n",
    "for m_i in m:\n",
    "    coeffs = g.project_coeffs(m_i).real\n",
    "    print(format_coeffs(coeffs, su4_names))\n",
    "    "
   ]
  },
  {
   "cell_type": "markdown",
   "metadata": {},
   "source": [
    "Hence,\n",
    "\n",
    "$$\n",
    "\\begin{align}\n",
    " \\mm = &i\\,\\Span\\{XI \n",
    "-aIX + bXX + -cYY ,\n",
    "aIY + bXY + cYX ,\n",
    "XZ,YI ,\n",
    "-aIY + cXY + bYX ,\\\\\n",
    "&-aIX + -cXX + bYY ,\n",
    "YZ ,\n",
    "-dIZ + aZI, \n",
    "ZX ,ZY ,ZZ \\}\n",
    "\\end{align}\n",
    "$$\n",
    "\n",
    "With the coefficients $a= \\frac{1}{\\sqrt{5}}$, $b=\\frac{5+\\sqrt{15}}{10}$, $c = \\frac{5-\\sqrt{15}}{10}$ and $d=\\frac{2}{\\sqrt{5}}$ (by plugging in the above floating point numbers into Wolfram Alpha). We find $\\gg^\\kk_o=0$ and $\\mathfrak{z}(\\kk)=0$. "
   ]
  },
  {
   "cell_type": "markdown",
   "metadata": {},
   "source": [
    "## 5.) $\\SU(4)/\\Sp(2)$"
   ]
  },
  {
   "cell_type": "markdown",
   "metadata": {},
   "source": [
    "The basis for $\\su(4)$ is given by tensor products of Pauli matrices.\n",
    "\n",
    "$$\n",
    "\\begin{align}\n",
    "\\gg &= \\Span\\{IX, IY, IZ, XI, XX, XY, XZ, YI, YX, YY, YZ, ZI, ZX, ZY, ZZ\\} \\\\\n",
    "\\end{align}\n",
    "$$\n",
    "\n",
    "Since $\\SU(4)/\\Sp(2)$ is a symmetric space, we can find a basis for $\\Sp(2)$ by defining an involution $\\theta:\\gg\\to\\gg$ such that $\\kk$ and $\\mm$ correspond to the positive and negative eigenspaces of $\\theta$, respectively. The involution that results in the split $\\su(4) = \\mm\\oplus\\sp(2)$ is \n",
    "\n",
    "$$\n",
    "\\begin{align}\n",
    "    \\theta(A) = J \\cdot A^* \\cdot J^T\n",
    "\\end{align}\n",
    "$$\n",
    "where \n",
    "$$\n",
    "\\begin{align}\n",
    "J = \\begin{pmatrix}\n",
    "0 & I_2 \\\\\n",
    "-I_2 & 0\n",
    "\\end{pmatrix}\n",
    "\\equiv iYI\n",
    "\\end{align}\n",
    "$$"
   ]
  },
  {
   "cell_type": "code",
   "execution_count": 10,
   "metadata": {},
   "outputs": [
    {
     "name": "stdout",
     "output_type": "stream",
     "text": [
      "m: 0.22273*IX + -0.39720*IZ + 0.77202*XY + 0.66687*YY + 0.65974*ZY \n",
      "k: -0.88865*IY + -0.28556*XI + 0.05793*XX + -0.56728*XZ + -2.66028*YI + 0.83718*YX + -0.06669*YZ + 0.01021*ZI + 0.49403*ZX + -1.34879*ZZ \n"
     ]
    }
   ],
   "source": [
    "# Create a random matrix in SU(4)\n",
    "coeffs = np.random.randn(15)\n",
    "mat = 1j * su4_vspace.construct_op(coeffs)\n",
    "g = VectorSpace(su4_vspace.basis)\n",
    "\n",
    "# Use the involution to split off k\n",
    "J = np.kron(1j * su2_dict['Y'], np.eye(2)) * np.sqrt(2)\n",
    "theta_mat = J @ mat.conj() @ J.T\n",
    "\n",
    "# m is the negative eigenspace\n",
    "m = 0.5 * (mat - theta_mat)\n",
    "# k is the positive eigenspace\n",
    "spn = 0.5 * (mat + theta_mat)\n",
    "\n",
    "coeffs_m = g.project_coeffs(m).imag\n",
    "print(\"m:\", format_coeffs(coeffs_m, su4_names))\n",
    "coeffs_spn = g.project_coeffs(spn).imag\n",
    "print(\"k:\", format_coeffs(coeffs_spn, su4_names))"
   ]
  },
  {
   "cell_type": "markdown",
   "metadata": {},
   "source": [
    "Hence we find the bases\n",
    "\n",
    "$$\n",
    "\\begin{align}\n",
    "\\kk &= i\\,\\Span\\{IY ,XI ,XX ,XZ ,YI,YX ,YZ ,ZI ,ZX ,ZZ \\}\\\\\n",
    "\\mm &= i\\,\\Span\\{IX,IZ,XY,YY,ZY \\}\n",
    "\\end{align}\n",
    "$$\n",
    "\n",
    "with $\\gg^\\kk_o=0$ and $\\mathfrak{z}(\\kk)=0$. "
   ]
  },
  {
   "cell_type": "markdown",
   "metadata": {},
   "source": [
    "## 6.) $\\SU(4) / (\\SU(2)\\times\\SU(2))$"
   ]
  },
  {
   "cell_type": "markdown",
   "metadata": {},
   "source": [
    "The basis for $\\su(4)$ is given by tensor products of Pauli matrices.\n",
    "\n",
    "$$\n",
    "\\begin{align}\n",
    "    \\gg &= \\Span\\{IX, IY, IZ, XI, XX, XY, XZ, YI, YX, YY, YZ, ZI, ZX, ZY, ZZ\\} \\\\\n",
    "\\end{align}\n",
    "$$\n",
    "\n",
    "We see that $\\kk$ is given by\n",
    "$$\n",
    "\\begin{align}\n",
    "    \\kk &= i\\:\\Span\\{XI, YI, ZI, IX, IY, IZ\\}\\\\\n",
    "\\end{align}\n",
    "$$\n",
    "hence we can immediately conclude that\n",
    "$$\n",
    "\\begin{align}\n",
    "    \\mm = i\\:\\Span\\{XX, YY, ZZ, XY, XZ, YX, YZ, ZX, ZY\\}\\\\\n",
    "\\end{align}\n",
    "$$\n",
    "which is the orthogonal complement of $\\kk$ in $\\gg$. Both centers are trivial, $\\gg^\\kk_o=0$ and $\\mathfrak{z}(\\kk)=0$. "
   ]
  },
  {
   "cell_type": "markdown",
   "metadata": {},
   "source": [
    "## 7.) $\\SO(4)/\\SU(2)$"
   ]
  },
  {
   "cell_type": "markdown",
   "metadata": {},
   "source": [
    "A basis for $\\gg$ is given by the set of anti-symmetric matrices,\n",
    "\n",
    "$$\n",
    "\\begin{align}\n",
    "    \\gg = i\\:\\Span\\{IY, XY, YI, YX, YZ, ZY\\}\n",
    "\\end{align}\n",
    "$$\n",
    "\n",
    "It is quickly confirmed that \n",
    "\n",
    "$$\n",
    "\\begin{align}\n",
    "    \\kk &= i\\:\\Span\\{K_1, K_2, K_3\\}\\\\\n",
    "\\end{align}\n",
    "$$\n",
    "\n",
    "with\n",
    "\n",
    "$$\n",
    "\\begin{align}\n",
    "    K_1 &=(YI+IY),\\quad K_2=XY + YX,\\quad K_3 = YZ + ZY\n",
    "\\end{align}\n",
    "$$\n",
    "\n",
    "satisfies the commutation relations of $\\su(2)$. Since $\\SO(4)/\\SU(2)$ is a symmetric space, we could either use an involution to find $\\mm$ or construct the orthogonal complement of $\\kk$. Here, we do the latter."
   ]
  },
  {
   "cell_type": "code",
   "execution_count": 11,
   "metadata": {},
   "outputs": [
    {
     "name": "stdout",
     "output_type": "stream",
     "text": [
      "Dimension of m: 3\n",
      "-0.70711*XY + 0.70711*YX \n",
      "0.50000*IY + -0.50000*YI + 0.50000*YZ + -0.50000*ZY \n",
      "0.50000*IY + -0.50000*YI + -0.50000*YZ + 0.50000*ZY \n"
     ]
    }
   ],
   "source": [
    "I = np.eye(2, dtype=complex)\n",
    "g = VectorSpace(so4_vspace.basis)\n",
    "# Create the su(2) basis within su(4)\n",
    "k = np.stack([np.kron(su2_dict['Y'], I) + np.kron(I, su2_dict['Y']),\n",
    "              np.kron(su2_dict['Y'], su2_dict['X']) + np.kron(su2_dict['X'], su2_dict['Y']),\n",
    "              np.kron(su2_dict['Z'], su2_dict['Y']) + np.kron(su2_dict['Y'], su2_dict['Z'])]) / 2\n",
    "subspace_k = []\n",
    "# Embed k in g\n",
    "for i, p in enumerate(k):\n",
    "    subspace_k.append(g.project_coeffs(p))\n",
    "    \n",
    "# Find the kernel of k\n",
    "k_ortho = spla.null_space(np.stack(subspace_k))\n",
    "m = np.einsum(\"in,ijk->njk\", k_ortho, g.basis)\n",
    "\n",
    "# Print the basis of m in terms of the pauli matrices\n",
    "print(\"Dimension of m:\", m.shape[0])\n",
    "for m_i in m:\n",
    "    coeffs = g.project_coeffs(m_i).real\n",
    "    print(format_coeffs(coeffs, so4_names))\n",
    "    "
   ]
  },
  {
   "cell_type": "markdown",
   "metadata": {},
   "source": [
    "Hence we obtain\n",
    "\n",
    "$$\n",
    "\\begin{align}\n",
    "    \\mm = i\\:\\Span\\{YX-XY, IY-YI + YZ-ZY, IY-YI + ZY- YZ\\}\n",
    "\\end{align}\n",
    "$$\n",
    "\n",
    "Both centers are trivial, $\\gg^\\kk_o=0$ and $\\mathfrak{z}(\\kk)=0$. "
   ]
  },
  {
   "cell_type": "markdown",
   "metadata": {},
   "source": [
    "## 8.) $\\SU(4)/\\SU(3)$"
   ]
  },
  {
   "cell_type": "code",
   "execution_count": 13,
   "metadata": {},
   "outputs": [
    {
     "name": "stdout",
     "output_type": "stream",
     "text": [
      "m: 0.12312*IX + -0.68183*IY + 0.03589*XI + -0.55056*XX + 0.78860*XY + 0.03589*XZ + -1.08662*YI + 0.78860*YX + 0.55056*YY + -1.08662*YZ + 0.12312*ZX + -0.68183*ZY \n",
      "k: -0.55235*IX + -1.46035*IY + -0.10148*IZ + -0.29912*XI + -0.01022*XX + -0.39716*XY + 0.29912*XZ + 1.09506*YI + 0.39716*YX + -0.01022*YY + -1.09506*YZ + 0.31085*ZI + 0.55235*ZX + 1.46035*ZY + 0.46254*ZZ \n"
     ]
    }
   ],
   "source": [
    "# Create a random matrix in SU(4)\n",
    "coeffs = np.random.randn(15)\n",
    "mat = 1j * su4_vspace.construct_op(coeffs)\n",
    "g = VectorSpace(su4_vspace.basis)\n",
    "\n",
    "# Use the involution to split off k\n",
    "p,q = (1,3)\n",
    "Ip = np.eye(p)\n",
    "Iq = np.eye(q)\n",
    "zero_pq = np.zeros((p, q))\n",
    "Ipq = np.block([[-Ip, zero_pq],\n",
    "                [zero_pq.T, Iq]])\n",
    "\n",
    "theta_mat = Ipq @ mat @ Ipq\n",
    "\n",
    "# m is the negative eigenspace\n",
    "m = 0.5 * (mat - theta_mat)\n",
    "# k is the positive eigenspace\n",
    "spn = 0.5 * (mat + theta_mat)\n",
    "\n",
    "coeffs_m = g.project_coeffs(m).imag\n",
    "print(\"m:\", format_coeffs(coeffs_m, su4_names))\n",
    "coeffs_spn = g.project_coeffs(spn).imag\n",
    "print(\"k:\", format_coeffs(coeffs_spn, su4_names))"
   ]
  },
  {
   "cell_type": "markdown",
   "metadata": {},
   "source": [
    "From which we quickly find\n",
    "\n",
    "$$\n",
    "\\begin{align}\n",
    "    \\mm &= i\\:\\Span\\{(I+Z)X, X(I+Z),(I+Z)Y, Y(I+Z),XY+YX, XX-YY\\}\\\\\n",
    "    \\kk &= i\\:\\Span\\{(I-Z)X, (I-Z)Y, X(I-Z), Y(I-Z), XY-YX, XX+YY, IZ, ZI, ZZ\\}\n",
    "\\end{align}\n",
    "$$\n",
    "\n",
    "**TODO:** Is there something in $\\gg^\\kk_o$?"
   ]
  },
  {
   "cell_type": "markdown",
   "metadata": {},
   "source": [
    "## 9.) $\\SO(4) / \\SO(3)$ "
   ]
  },
  {
   "cell_type": "code",
   "execution_count": 16,
   "metadata": {},
   "outputs": [
    {
     "name": "stdout",
     "output_type": "stream",
     "text": [
      "m: 0.04736*IY + -1.04999*XY + -0.11451*YI + -1.04999*YX + -0.11451*YZ + 0.04736*ZY \n",
      "k: -0.72875*IY + -0.55131*XY + -1.60133*YI + 0.55131*YX + 1.60133*YZ + 0.72875*ZY \n"
     ]
    }
   ],
   "source": [
    "# Create a random matrix in SU(4)\n",
    "coeffs = np.random.randn(6)\n",
    "mat = 1j * so4_vspace.construct_op(coeffs)\n",
    "g = VectorSpace(so4_vspace.basis)\n",
    "\n",
    "# Use the involution to split off k\n",
    "p,q = (1,3)\n",
    "Ip = np.eye(p)\n",
    "Iq = np.eye(q)\n",
    "zero_pq = np.zeros((p, q))\n",
    "Ipq = np.block([[-Ip, zero_pq],\n",
    "                [zero_pq.T, Iq]])\n",
    "\n",
    "theta_mat = Ipq @ mat @ Ipq\n",
    "\n",
    "# m is the negative eigenspace\n",
    "m = 0.5 * (mat - theta_mat)\n",
    "# k is the positive eigenspace\n",
    "spn = 0.5 * (mat + theta_mat)\n",
    "\n",
    "coeffs_m = g.project_coeffs(m).imag\n",
    "print(\"m:\", format_coeffs(coeffs_m, so4_names))\n",
    "coeffs_spn = g.project_coeffs(spn).imag\n",
    "print(\"k:\", format_coeffs(coeffs_spn, so4_names))"
   ]
  },
  {
   "cell_type": "markdown",
   "metadata": {},
   "source": [
    "From which we quickly find\n",
    "\n",
    "$$\n",
    "\\begin{align}\n",
    "    \\mm &= i\\:\\Span\\{(I+Z)Y, Y(I+Z), XY+YX\\}\\\\\n",
    "    \\kk &= i\\:\\Span\\{(I-Z)Y, Y(I-Z), XY-YX\\}\n",
    "\\end{align}\n",
    "$$\n",
    "\n",
    "**TODO:** Is there something in $\\gg^\\kk_o$?"
   ]
  }
 ],
 "metadata": {
  "kernelspec": {
   "display_name": "Python 3 (ipykernel)",
   "language": "python",
   "name": "python3"
  },
  "language_info": {
   "codemirror_mode": {
    "name": "ipython",
    "version": 3
   },
   "file_extension": ".py",
   "mimetype": "text/x-python",
   "name": "python",
   "nbconvert_exporter": "python",
   "pygments_lexer": "ipython3",
   "version": "3.9.16"
  }
 },
 "nbformat": 4,
 "nbformat_minor": 1
}
