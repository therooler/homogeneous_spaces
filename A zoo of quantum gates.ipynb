{
 "cells": [
  {
   "cell_type": "code",
   "execution_count": 1,
   "metadata": {
    "pycharm": {
     "name": "#%%\n"
    }
   },
   "outputs": [],
   "source": [
    "import scipy.linalg as spla\n",
    "import numpy as np\n",
    "import itertools\n",
    "\n",
    "from src.reductive_geometry import get_pauli_basis, VectorSpace, comm"
   ]
  },
  {
   "cell_type": "markdown",
   "metadata": {
    "pycharm": {
     "name": "#%% md\n"
    }
   },
   "source": [
    "$\n",
    "\\newcommand{\\SU}{\\mathrm{SU}}\n",
    "\\newcommand{\\U}{\\mathrm{U}}\n",
    "\\newcommand{\\Stab}{\\mathrm{Stab}}\n",
    "\\newcommand{\\SO}{\\mathrm{SO}}\n",
    "\\newcommand{\\Sp}{\\mathrm{Sp}}\n",
    "\\newcommand{\\su}{\\mathfrak{su}}\n",
    "\\newcommand{\\so}{\\mathfrak{so}}\n",
    "\\newcommand{\\gl}{\\mathfrak{gl}}\n",
    "\\renewcommand{\\sp}{\\mathfrak{sp}}\n",
    "\\renewcommand{\\gg}{\\mathfrak{g}}\n",
    "\\newcommand{\\uu}{\\mathfrak{u}}\n",
    "\\newcommand{\\kk}{\\mathfrak{k}}\n",
    "\\newcommand{\\mm}{\\mathfrak{m}}\n",
    "\\newcommand{\\oo}{\\mathfrak{o}}\n",
    "\\newcommand{\\hh}{\\mathfrak{h}}\n",
    "\\renewcommand{\\tt}{\\mathfrak{t}}\n",
    "\\newcommand{\\Span}{\\mathrm{span}}\n",
    "$"
   ]
  },
  {
   "cell_type": "markdown",
   "metadata": {},
   "source": [
    "Some code to easily format the final coefficients"
   ]
  },
  {
   "cell_type": "code",
   "execution_count": 2,
   "metadata": {
    "pycharm": {
     "name": "#%%\n"
    }
   },
   "outputs": [],
   "source": [
    "def format_coeffs(coeffs, names):\n",
    "    assert len(coeffs)==len(names)\n",
    "    str_rep = \"\"\n",
    "    for i, c_i in enumerate(coeffs):\n",
    "        if not np.isclose(c_i,0.):\n",
    "            str_rep = str_rep + f\"{c_i:1.5f}*{names[i]} + \"\n",
    "    return str_rep[:-2]"
   ]
  },
  {
   "cell_type": "markdown",
   "metadata": {},
   "source": [
    "A way to find the intersection subspace of several vector spaces"
   ]
  },
  {
   "cell_type": "code",
   "execution_count": 3,
   "metadata": {},
   "outputs": [],
   "source": [
    "def intersection_basis(bases):\n",
    "    \"\"\" Compute the basis for the intersection of the spans of sets of vectors. \"\"\"\n",
    "    # Convert sets to numpy arrays\n",
    "    combined_complement=[]\n",
    "    for b in bases:\n",
    "        combined_complement.append(spla.null_space(b))\n",
    "    # Concatenate the orthogonal complements\n",
    "    combined_complement = np.hstack(combined_complement)\n",
    "    intersection = spla.null_space(combined_complement.T)\n",
    "\n",
    "    return intersection"
   ]
  },
  {
   "cell_type": "markdown",
   "metadata": {},
   "source": [
    "A way to find the commutant given bases for Lie algebras $\\kk\\subset\\gg$."
   ]
  },
  {
   "cell_type": "code",
   "execution_count": 4,
   "metadata": {},
   "outputs": [],
   "source": [
    "def find_commutant(g, k):\n",
    "    total_kernel = []\n",
    "    for k_i in k.basis:\n",
    "        ad_g_i = []\n",
    "        for g_j in g.basis:\n",
    "            c = comm(k_i, g_j)\n",
    "            ad_g_i.append(g.project_coeffs(c))\n",
    "        ad_g_i = np.stack(ad_g_i)\n",
    "        kernel = spla.null_space(1j*ad_g_i).T.real\n",
    "        total_kernel.append(kernel)\n",
    "\n",
    "    q,r = np.linalg.qr(total_kernel[0])\n",
    "    bases = intersection_basis(total_kernel)\n",
    "    return bases"
   ]
  },
  {
   "cell_type": "markdown",
   "metadata": {},
   "source": [
    "A way to find a linearly independent set of vectors"
   ]
  },
  {
   "cell_type": "code",
   "execution_count": 43,
   "metadata": {},
   "outputs": [],
   "source": [
    "def linearly_independent_set_svd(vectors):\n",
    "    # Convert the list of vectors into a NumPy array\n",
    "    A = np.array(vectors).T  # Transpose to get vectors as columns\n",
    "\n",
    "    # Perform Singular Value Decomposition\n",
    "    U, S, VT = np.linalg.svd(A)\n",
    "\n",
    "    # Determine the rank of the matrix (number of non-zero singular values)\n",
    "    rank = np.sum(S > 1e-10)  # Use a threshold to determine non-zero singular values\n",
    "\n",
    "    # Select the first 'rank' columns of U (corresponding to non-zero singular values)\n",
    "    independent_vectors = U[:, :rank]\n",
    "\n",
    "    return independent_vectors.T  # Transpose back to original orientation"
   ]
  },
  {
   "cell_type": "markdown",
   "metadata": {
    "pycharm": {
     "name": "#%%\n"
    }
   },
   "source": [
    "# Different homogeneous space $G/K$\n",
    "\n",
    "In this notebook, we will explore how to find the tangent space parameterization $T_{G/K}\\:gK \\cong \\mathfrak{m}$ for a given $G$ and $K$ and associated Lie algebras $\\mathfrak{g}$ and $\\mathfrak{k}$."
   ]
  },
  {
   "cell_type": "code",
   "execution_count": 5,
   "metadata": {
    "pycharm": {
     "name": "#%%\n"
    }
   },
   "outputs": [],
   "source": [
    "su2_dict = get_pauli_basis(1)\n",
    "su4_dict = get_pauli_basis(2)\n",
    "su2_names = list(su2_dict.keys())\n",
    "su4_names = list(su4_dict.keys())\n",
    "su2_vspace = VectorSpace(np.stack(list(su2_dict.values())))\n",
    "su4_vspace = VectorSpace(np.stack(list(su4_dict.values())))"
   ]
  },
  {
   "cell_type": "code",
   "execution_count": 6,
   "metadata": {
    "pycharm": {
     "name": "#%%\n"
    }
   },
   "outputs": [],
   "source": [
    "so4 = ['IY', 'XY', 'YI', 'YX', 'YZ', 'ZY']\n",
    "so4_dict = dict(zip(so4, [su4_dict[p] for p in so4]))    \n",
    "so4_names = list(so4_dict.keys())\n",
    "so4_vspace = VectorSpace(np.stack(list(so4_dict.values())))"
   ]
  },
  {
   "cell_type": "markdown",
   "metadata": {
    "pycharm": {
     "name": "#%% md\n"
    }
   },
   "source": [
    "## 1.) $\\SU(2)/\\U(1)$"
   ]
  },
  {
   "cell_type": "markdown",
   "metadata": {
    "pycharm": {
     "name": "#%% md\n"
    }
   },
   "source": [
    "By inspection, we quickly find\n",
    "\n",
    "$$\n",
    "\\begin{align}\n",
    "\\gg &= \\Span\\{X,Y,Z\\} \\\\\n",
    "\\kk &= \\Span\\{Z\\}\\\\\n",
    "\\mm &= \\Span\\{X,Y\\}\\\\\n",
    "\\end{align}\n",
    "$$\n",
    "clearly the center is $\\mathfrak{z}(\\kk) = \\Span\\{Z\\}$ and $\\gg^\\kk_o = 0$."
   ]
  },
  {
   "cell_type": "code",
   "execution_count": 7,
   "metadata": {
    "pycharm": {
     "name": "#%%\n"
    }
   },
   "outputs": [],
   "source": [
    "g = su2_vspace\n",
    "k = VectorSpace(np.array([su2_dict[\"Z\"]]))\n",
    "m = VectorSpace(np.array([su2_dict[\"X\"], su2_dict[\"Y\"]]))"
   ]
  },
  {
   "cell_type": "markdown",
   "metadata": {},
   "source": [
    "Determine the commutant"
   ]
  },
  {
   "cell_type": "code",
   "execution_count": 8,
   "metadata": {},
   "outputs": [
    {
     "name": "stdout",
     "output_type": "stream",
     "text": [
      "1.00000*Z \n"
     ]
    }
   ],
   "source": [
    "commutant = find_commutant(g, k)\n",
    "for b in commutant.T:\n",
    "    print(format_coeffs(b, su2_names))"
   ]
  },
  {
   "cell_type": "markdown",
   "metadata": {},
   "source": [
    "Confirms that the commutant equals\n",
    "\n",
    "$$\n",
    "\\gg^\\kk = \\{Z\\}\n",
    "$$"
   ]
  },
  {
   "cell_type": "markdown",
   "metadata": {
    "pycharm": {
     "name": "#%% md\n"
    }
   },
   "source": [
    "## 2.) $\\SU(4)/\\U(2)$ (spin 1/2)"
   ]
  },
  {
   "cell_type": "markdown",
   "metadata": {
    "pycharm": {
     "name": "#%% md\n"
    }
   },
   "source": [
    "The basis for $\\su(4)$ is given by tensor products of Pauli matrices.\n",
    "\n",
    "$$\n",
    "\\begin{align}\n",
    "    \\gg &= i\\,\\Span\\{IX, IY, IZ, XI, XX, XY, XZ, YI, YX, YY, YZ, ZI, ZX, ZY, ZZ\\} \n",
    "\\end{align}\n",
    "$$\n",
    "\n",
    "It's clear that\n",
    "\n",
    "$$\n",
    "\\begin{align}\n",
    "    \\kk &= i\\,\\Span\\{XI+IX, YI+IY, ZI + IZ\\}\n",
    "\\end{align}\n",
    "$$\n",
    "\n",
    "satisfies the commutation relations of $\\su(2)$. We now have a trivial center $\\mathfrak{z}(\\kk)=0$. To find the space $\\mm$, we use a nullspace method to find the elements of $\\gg$ that are orthogonal to $\\kk$. "
   ]
  },
  {
   "cell_type": "code",
   "execution_count": 9,
   "metadata": {
    "pycharm": {
     "name": "#%%\n"
    },
    "scrolled": true
   },
   "outputs": [
    {
     "name": "stdout",
     "output_type": "stream",
     "text": [
      "Dimension of m: 12\n",
      "-0.70711*IX + 0.70711*XI \n",
      "1.00000*XX \n",
      "1.00000*XY \n",
      "1.00000*XZ \n",
      "-0.70711*IY + 0.70711*YI \n",
      "1.00000*YX \n",
      "1.00000*YY \n",
      "1.00000*YZ \n",
      "-0.70711*IZ + 0.70711*ZI \n",
      "1.00000*ZX \n",
      "1.00000*ZY \n",
      "1.00000*ZZ \n"
     ]
    }
   ],
   "source": [
    "I = np.eye(2, dtype=complex)\n",
    "g = VectorSpace(su4_vspace.basis)\n",
    "# Create the su(2) basis within su(4)\n",
    "k = VectorSpace(np.stack([np.kron(su2_dict['X'], I) + np.kron(I, su2_dict['X']),\n",
    "                      np.kron(su2_dict['Y'], I) + np.kron(I, su2_dict['Y']),\n",
    "                      np.kron(su2_dict['Z'], I) + np.kron(I, su2_dict['Z'])]) / 2)\n",
    "subspace_k = []\n",
    "# Embed k in g\n",
    "for i, p in enumerate(k):\n",
    "    subspace_k.append(g.project_coeffs(p))\n",
    "    \n",
    "# Find the kernel of k\n",
    "k_ortho = spla.null_space(np.stack(subspace_k))\n",
    "m = np.einsum(\"in,ijk->njk\", k_ortho, g.basis)\n",
    "\n",
    "# Print the basis of m in terms of the pauli matrices\n",
    "print(\"Dimension of m:\", m.shape[0])\n",
    "for m_i in m:\n",
    "    coeffs = g.project_coeffs(m_i).real\n",
    "    print(format_coeffs(coeffs, su4_names))\n",
    "    "
   ]
  },
  {
   "cell_type": "markdown",
   "metadata": {
    "pycharm": {
     "name": "#%% md\n"
    }
   },
   "source": [
    "Hence\n",
    "\n",
    "$$\n",
    "\\begin{align}\n",
    " \\mm=i\\,\\Span\\{XX,XY,XZ,YX,YY,YZ, ZX,ZY,ZZ, XI-IX, YI-IY, ZI - IZ\\}\n",
    "\\end{align}\n",
    "$$"
   ]
  },
  {
   "cell_type": "markdown",
   "metadata": {},
   "source": [
    "We can find the commutant by determining the kernel of $\\mathrm{ad}_Y$ for all $Y \\in \\kk$ within $\\gg$."
   ]
  },
  {
   "cell_type": "code",
   "execution_count": 10,
   "metadata": {},
   "outputs": [
    {
     "name": "stdout",
     "output_type": "stream",
     "text": [
      "0.57735*XX + 0.57735*YY + 0.57735*ZZ \n",
      "[[1.+0.j 0.+0.j 0.+0.j 0.+0.j]\n",
      " [0.+0.j 0.+0.j 1.+0.j 0.+0.j]\n",
      " [0.+0.j 1.+0.j 0.+0.j 0.+0.j]\n",
      " [0.+0.j 0.+0.j 0.+0.j 1.+0.j]]\n"
     ]
    }
   ],
   "source": [
    "commutant = find_commutant(g, k)\n",
    "for b in commutant.T:\n",
    "    print(format_coeffs(b, su4_names))\n",
    "pbasis = get_pauli_basis(2)\n",
    "print(pbasis['XX']+pbasis['YY']+pbasis['ZZ'] + 0.5 * np.eye(4))"
   ]
  },
  {
   "cell_type": "markdown",
   "metadata": {},
   "source": [
    "Hence we find that the commutant is given by\n",
    "\n",
    "$$\n",
    "\\gg^\\kk = \\{\\mathrm{SWAP}\\}\n",
    "$$\n",
    "\n",
    "which is also a direct consequence of the Schur-Weyl duality. Clearly $\\mathfrak{z}(\\kk)=0$, hence $\\gg^\\kk_o=\\{\\mathrm{SWAP}\\}$"
   ]
  },
  {
   "cell_type": "markdown",
   "metadata": {
    "pycharm": {
     "name": "#%% md\n"
    }
   },
   "source": [
    "## 3a.) $\\SU(4) / (I_2 \\times \\SU(2))$"
   ]
  },
  {
   "cell_type": "markdown",
   "metadata": {
    "pycharm": {
     "name": "#%% md\n"
    }
   },
   "source": [
    "The basis for $\\su(4)$ is given by tensor products of Pauli matrices.\n",
    "\n",
    "$$\n",
    "\\begin{align}\n",
    "\\gg &= i\\,\\Span\\{IX, IY, IZ, XI, XX, XY, XZ, YI, YX, YY, YZ, ZI, ZX, ZY, ZZ\\} \\\\\n",
    "\\end{align}\n",
    "$$\n",
    "\n",
    "A basis for $\\kk$ is \n",
    "\n",
    "$$\n",
    "\\begin{align}\n",
    "    \\kk &= i\\,\\Span\\{0_2\\oplus X, 0_2\\oplus Y,0_2\\oplus Z\\}\n",
    "\\end{align}\n",
    "$$\n",
    "where $0_2$ is a zero matrix of size $2\\times 2$. The center is trivial $\\mathfrak{z}(\\kk)=0$"
   ]
  },
  {
   "cell_type": "code",
   "execution_count": 11,
   "metadata": {
    "pycharm": {
     "name": "#%%\n"
    },
    "scrolled": true
   },
   "outputs": [
    {
     "name": "stdout",
     "output_type": "stream",
     "text": [
      "Dimension of m: 12\n",
      "1.00000*XI \n",
      "1.00000*XX \n",
      "1.00000*XY \n",
      "1.00000*XZ \n",
      "1.00000*YI \n",
      "1.00000*YX \n",
      "1.00000*YY \n",
      "1.00000*YZ \n",
      "1.00000*ZI \n",
      "0.70711*IX + 0.70711*ZX \n",
      "0.70711*IY + 0.70711*ZY \n",
      "0.70711*IZ + 0.70711*ZZ \n"
     ]
    }
   ],
   "source": [
    "I = np.eye(2, dtype=complex)\n",
    "g = VectorSpace(su4_vspace.basis)\n",
    "k = []\n",
    "for term in su2_vspace.basis:\n",
    "    k.append(np.block([[np.zeros((2,2)), np.zeros((2,2))],\n",
    "                       [np.zeros((2,2)), term]]))\n",
    "k = VectorSpace(np.stack(k))\n",
    "subspace_k = []\n",
    "# Embed k in g\n",
    "for i, p in enumerate(k):\n",
    "    subspace_k.append(g.project_coeffs(p))\n",
    "# Find the kernel of k\n",
    "k_ortho = spla.null_space(np.stack(subspace_k))\n",
    "m = np.einsum(\"in,ijk->njk\", k_ortho, g.basis)\n",
    "# Print the basis of m in terms of the pauli matrices\n",
    "print(\"Dimension of m:\", m.shape[0])\n",
    "for m_i in m:\n",
    "    coeffs = g.project_coeffs(m_i).real\n",
    "    print(format_coeffs(coeffs, su4_names))"
   ]
  },
  {
   "cell_type": "markdown",
   "metadata": {
    "pycharm": {
     "name": "#%% md\n"
    }
   },
   "source": [
    "Hence\n",
    "\n",
    "$$\n",
    "\\begin{align}\n",
    "     \\mm=i\\,\\Span\\{XI, XX ,XY ,XZ ,YI ,YX ,YY ,YZ ,ZI ,IX + ZX ,IY + ZY ,IZ + ZZ \\}\n",
    "\\end{align}\n",
    "$$"
   ]
  },
  {
   "cell_type": "code",
   "execution_count": 12,
   "metadata": {},
   "outputs": [
    {
     "name": "stdout",
     "output_type": "stream",
     "text": [
      "0.00117*IX + -0.54495*IY + -0.45058*IZ + 0.00117*ZX + -0.54495*ZY + -0.45058*ZZ \n",
      "-0.57861*IX + -0.25975*IY + 0.31264*IZ + -0.57861*ZX + -0.25975*ZY + 0.31264*ZZ \n",
      "0.40646*IX + -0.36818*IY + 0.44635*IZ + 0.40646*ZX + -0.36818*ZY + 0.44635*ZZ \n",
      "-1.00000*ZI \n"
     ]
    }
   ],
   "source": [
    "commutant = find_commutant(g, k)\n",
    "for b in commutant.T:\n",
    "    print(format_coeffs(b, su4_names))\n",
    "pbasis = get_pauli_basis(2)"
   ]
  },
  {
   "cell_type": "markdown",
   "metadata": {},
   "source": [
    "Hence the commutant is given by\n",
    "\n",
    "$$\n",
    "\\begin{align}\n",
    "\\gg^\\kk = \\{&a_1(IX+ZX) + b_1(IY+ZY) + c_1(IZ+ZZ),\\\\\n",
    "&a_2(IX+ZX) + b_2(IY+ZY) + c_2(IZ+ZZ),\\\\\n",
    "&a_3(IX+ZX) + b_3(IY+ZY) + c_3(IZ+ZZ),\\\\\n",
    "&-ZI\\}\n",
    "\\end{align}\n",
    "$$"
   ]
  },
  {
   "cell_type": "markdown",
   "metadata": {
    "pycharm": {
     "name": "#%% md\n"
    }
   },
   "source": [
    "## 3b.) $\\SO(4) / (I_2 \\times \\SO(2))$"
   ]
  },
  {
   "cell_type": "markdown",
   "metadata": {
    "pycharm": {
     "name": "#%% md\n"
    }
   },
   "source": [
    "The basis for $\\so(4)$ is given by tensor products of Pauli matrices.\n",
    "\n",
    "$$\n",
    "\\begin{align}\n",
    "    \\gg = i\\:\\Span\\{IY, XY, YI, YX, YZ, ZY\\}\n",
    "\\end{align}\n",
    "$$\n",
    "\n",
    "A basis for $\\kk$ is \n",
    "\n",
    "$$\n",
    "\\begin{align}\n",
    "    \\kk &= i\\,\\Span\\{0_2\\oplus Y\\}\n",
    "\\end{align}\n",
    "$$\n",
    "where $0_2$ is a zero matrix of size $2\\times 2$. The center is trivial $\\mathfrak{z}(\\kk)=0$"
   ]
  },
  {
   "cell_type": "code",
   "execution_count": 13,
   "metadata": {
    "pycharm": {
     "name": "#%%\n"
    }
   },
   "outputs": [
    {
     "name": "stdout",
     "output_type": "stream",
     "text": [
      "Dimension of m: 5\n",
      "1.00000*XY \n",
      "1.00000*YI \n",
      "1.00000*YX \n",
      "1.00000*YZ \n",
      "0.70711*IY + 0.70711*ZY \n"
     ]
    }
   ],
   "source": [
    "I = np.eye(2, dtype=complex)\n",
    "g = VectorSpace(so4_vspace.basis)\n",
    "k = []\n",
    "k.append(np.block([[np.zeros((2,2)), np.zeros((2,2))],\n",
    "                   [np.zeros((2,2)), su2_dict['Y']]]))\n",
    "k = VectorSpace(np.array(k))\n",
    "subspace_k = []\n",
    "# Embed k in g\n",
    "for i, p in enumerate(k):\n",
    "    subspace_k.append(g.project_coeffs(p))\n",
    "# Find the kernel of k\n",
    "k_ortho = spla.null_space(np.stack(subspace_k))\n",
    "m = np.einsum(\"in,ijk->njk\", k_ortho, g.basis)\n",
    "# Print the basis of m in terms of the pauli matrices\n",
    "print(\"Dimension of m:\", m.shape[0])\n",
    "for m_i in m:\n",
    "    coeffs = g.project_coeffs(m_i).real\n",
    "    print(format_coeffs(coeffs, so4_names))"
   ]
  },
  {
   "cell_type": "markdown",
   "metadata": {
    "pycharm": {
     "name": "#%% md\n"
    }
   },
   "source": [
    "Hence\n",
    "\n",
    "$$\n",
    "\\begin{align}\n",
    "     \\mm=i\\,\\Span\\{XY,YI ,YX ,YZ, IY + ZY\\}\n",
    "\\end{align}\n",
    "$$"
   ]
  },
  {
   "cell_type": "markdown",
   "metadata": {},
   "source": [
    "Determine the commutant via a null space method"
   ]
  },
  {
   "cell_type": "code",
   "execution_count": 14,
   "metadata": {},
   "outputs": [
    {
     "name": "stdout",
     "output_type": "stream",
     "text": [
      "1.00000*IY \n",
      "1.00000*ZY \n"
     ]
    }
   ],
   "source": [
    "commutant = find_commutant(g, k)\n",
    "for b in commutant.T:\n",
    "    print(format_coeffs(b, so4_names))\n",
    "pbasis = get_pauli_basis(2)\n",
    "assert np.allclose(comm(k[0],pbasis['IY']), np.zeros([4]*2))\n",
    "assert np.allclose(comm(k[0],pbasis['ZY']), np.zeros([4]*2))"
   ]
  },
  {
   "cell_type": "markdown",
   "metadata": {},
   "source": [
    "Hence the commutant is \n",
    "\n",
    "$$\n",
    "\\gg^\\kk = \\{IY, ZY\\}\n",
    "$$"
   ]
  },
  {
   "cell_type": "markdown",
   "metadata": {
    "pycharm": {
     "name": "#%% md\n"
    }
   },
   "source": [
    "## 3c.) $\\SO(4) / (1 \\times \\SO(2) \\times 1)$"
   ]
  },
  {
   "cell_type": "markdown",
   "metadata": {
    "pycharm": {
     "name": "#%% md\n"
    }
   },
   "source": [
    "The basis for $\\so(4)$ is given by tensor products of Pauli matrices.\n",
    "\n",
    "$$\n",
    "\\begin{align}\n",
    "    \\gg = i\\:\\Span\\{IY, XY, YI, YX, YZ, ZY\\}\n",
    "\\end{align}\n",
    "$$\n",
    "\n",
    "A basis for $\\kk$ is \n",
    "\n",
    "$$\n",
    "\\begin{align}\n",
    "    \\kk &= i\\,\\Span\\{0\\oplus Y\\oplus0\\}\n",
    "\\end{align}\n",
    "$$\n",
    "\n",
    "The center is trivial $\\mathfrak{z}(\\kk)=0$"
   ]
  },
  {
   "cell_type": "code",
   "execution_count": 15,
   "metadata": {
    "pycharm": {
     "name": "#%%\n"
    }
   },
   "outputs": [
    {
     "name": "stdout",
     "output_type": "stream",
     "text": [
      "Dimension of m: 5\n",
      "0.70711*IY + 0.50000*XY + 0.50000*YX \n",
      "1.00000*YI \n",
      "-0.70711*IY + 0.50000*XY + 0.50000*YX \n",
      "1.00000*YZ \n",
      "1.00000*ZY \n"
     ]
    }
   ],
   "source": [
    "I = np.eye(2, dtype=complex)\n",
    "g = VectorSpace(so4_vspace.basis)\n",
    "k = []\n",
    "k.append(np.block([[0,0,0,0],[0,0,-1j,0],[0,1j,0,0],[0,0,0,0]]))\n",
    "k = VectorSpace(np.array(k))\n",
    "subspace_k = []\n",
    "# Embed k in g\n",
    "for i, p in enumerate(k):\n",
    "    subspace_k.append(g.project_coeffs(p))\n",
    "# Find the kernel of k\n",
    "k_ortho = spla.null_space(np.stack(subspace_k))\n",
    "m = np.einsum(\"in,ijk->njk\", k_ortho, g.basis)\n",
    "# Print the basis of m in terms of the pauli matrices\n",
    "print(\"Dimension of m:\", m.shape[0])\n",
    "for m_i in m:\n",
    "    coeffs = g.project_coeffs(m_i).real\n",
    "    print(format_coeffs(coeffs, so4_names))\n"
   ]
  },
  {
   "cell_type": "markdown",
   "metadata": {
    "pycharm": {
     "name": "#%% md\n"
    }
   },
   "source": [
    "Hence\n",
    "\n",
    "$$\n",
    "\\begin{align}\n",
    "     \\mm=i\\,\\Span\\{\\sqrt{2}IY+ XY+YX,-\\sqrt{2}IY+ XY+YX, YI,YZ, ZY \\}\n",
    "\\end{align}\n",
    "$$"
   ]
  },
  {
   "cell_type": "code",
   "execution_count": 16,
   "metadata": {},
   "outputs": [
    {
     "name": "stdout",
     "output_type": "stream",
     "text": [
      "-1.00000*XY \n",
      "-1.00000*YX \n"
     ]
    }
   ],
   "source": [
    "commutant = find_commutant(g, k)\n",
    "for b in commutant.T:\n",
    "    print(format_coeffs(b, so4_names))\n",
    "pbasis = get_pauli_basis(2)\n",
    "assert np.allclose(comm(k[0],pbasis['XY']), np.zeros([4]*2))\n",
    "assert np.allclose(comm(k[0],pbasis['YX']), np.zeros([4]*2))"
   ]
  },
  {
   "cell_type": "markdown",
   "metadata": {},
   "source": [
    "Hence the commutant is\n",
    "\n",
    "$$\n",
    "\\gg^\\kk = \\{XY, YX\\}\n",
    "$$"
   ]
  },
  {
   "cell_type": "markdown",
   "metadata": {
    "pycharm": {
     "name": "#%% md\n"
    }
   },
   "source": [
    "## 4.) $\\SU(4)/\\SU(2)$ (spin 3/2)"
   ]
  },
  {
   "cell_type": "markdown",
   "metadata": {
    "pycharm": {
     "name": "#%% md\n"
    }
   },
   "source": [
    "The basis for $\\su(4)$ is given by tensor products of Pauli matrices.\n",
    "\n",
    "$$\n",
    "\\begin{align}\n",
    "\\gg &= i\\,\\Span\\{IX, IY, IZ, XI, XX, XY, XZ, YI, YX, YY, YZ, ZI, ZX, ZY, ZZ\\} \\\\\n",
    "\\end{align}\n",
    "$$\n",
    "\n",
    "A basis for $\\kk$ is \n",
    "\n",
    "$$\n",
    "\\begin{align}\n",
    "    \\kk &= i\\:\\Span\\{S_x, S_y, S_z\\}\n",
    "\\end{align}\n",
    "$$\n",
    "\n",
    "with \n",
    "\n",
    "$$\n",
    "\\begin{align}\n",
    "S_x &= \\begin{bmatrix}\n",
    "    0 & \\sqrt{3} & 0 & 0 \\\\\n",
    "    \\sqrt{3} & 0 & 2 & 0 \\\\\n",
    "    0 & 2 & 0 & \\sqrt{3} \\\\\n",
    "    0 & 0 & \\sqrt{3} & 0 \\\\\n",
    "    \\end{bmatrix},\\quad S_y = \\begin{bmatrix}\n",
    "    0 & -i\\sqrt{3} & 0 & 0 \\\\\n",
    "    i\\sqrt{3} & 0 & -2i & 0 \\\\\n",
    "    0 & 2i & 0 & -i\\sqrt{3} \\\\\n",
    "    0 & 0 & i\\sqrt{3} & 0 \\\\\n",
    "    \\end{bmatrix},\\quad S_z = \\begin{bmatrix}\n",
    "    3 & 0 & 0 & 0 \\\\\n",
    "    0 & 1 & 0 & 0 \\\\\n",
    "    0 & 0 & -1 & 0 \\\\\n",
    "    0 & 0 & 0 & -3 \\\\\n",
    "    \\end{bmatrix},\n",
    "\\end{align}\n",
    "$$\n",
    "\n",
    "we find $\\mm$ via the null space method."
   ]
  },
  {
   "cell_type": "code",
   "execution_count": 17,
   "metadata": {
    "pycharm": {
     "name": "#%%\n"
    },
    "scrolled": true
   },
   "outputs": [
    {
     "name": "stdout",
     "output_type": "stream",
     "text": [
      "Dimension of m: 12\n",
      "1.00000*XI \n",
      "-0.44721*IX + 0.88730*XX + -0.11270*YY \n",
      "0.44721*IY + 0.88730*XY + 0.11270*YX \n",
      "1.00000*XZ \n",
      "1.00000*YI \n",
      "-0.44721*IY + 0.11270*XY + 0.88730*YX \n",
      "-0.44721*IX + -0.11270*XX + 0.88730*YY \n",
      "1.00000*YZ \n",
      "-0.89443*IZ + 0.44721*ZI \n",
      "1.00000*ZX \n",
      "1.00000*ZY \n",
      "1.00000*ZZ \n"
     ]
    }
   ],
   "source": [
    "g = VectorSpace(su4_vspace.basis)\n",
    "Sx = np.array([[0, np.sqrt(3), 0, 0],\n",
    "               [np.sqrt(3), 0, 2, 0],\n",
    "               [0, 2, 0, np.sqrt(3)],\n",
    "               [0, 0, np.sqrt(3), 0]]) / 2\n",
    "Sy = np.array([[0, -1j * np.sqrt(3), 0, 0],\n",
    "               [1j * np.sqrt(3), 0, -2j, 0],\n",
    "               [0, 2j, 0, -1j * np.sqrt(3)],\n",
    "               [0, 0, 1j * np.sqrt(3), 0]]) / 2\n",
    "Sz = np.array([[3, 0, 0, 0],\n",
    "               [0, 1, 0, 0],\n",
    "               [0, 0, -1, 0],\n",
    "               [0, 0, 0, -3]]) / 2\n",
    "k = VectorSpace(np.stack([Sx, Sy, Sz]))\n",
    "\n",
    "subspace_k = []\n",
    "# Embed k in g\n",
    "for i, p in enumerate(k):\n",
    "    subspace_k.append(g.project_coeffs(p))\n",
    "    \n",
    "# Find the kernel of k\n",
    "k_ortho = spla.null_space(np.stack(subspace_k))\n",
    "m = np.einsum(\"in,ijk->njk\", k_ortho, g.basis)\n",
    "\n",
    "# Print the basis of m in terms of the pauli matrices\n",
    "print(\"Dimension of m:\", m.shape[0])\n",
    "for m_i in m:\n",
    "    coeffs = g.project_coeffs(m_i).real\n",
    "    print(format_coeffs(coeffs, su4_names))\n",
    "    "
   ]
  },
  {
   "cell_type": "markdown",
   "metadata": {
    "pycharm": {
     "name": "#%% md\n"
    }
   },
   "source": [
    "Hence,\n",
    "\n",
    "$$\n",
    "\\begin{align}\n",
    " \\mm = &i\\,\\Span\\{XI \n",
    "-aIX + bXX + -cYY ,\n",
    "aIY + bXY + cYX ,\n",
    "XZ,YI ,\n",
    "-aIY + cXY + bYX ,\\\\\n",
    "&-aIX + -cXX + bYY ,\n",
    "YZ ,\n",
    "-dIZ + aZI, \n",
    "ZX ,ZY ,ZZ \\}\n",
    "\\end{align}\n",
    "$$\n",
    "\n",
    "With the coefficients $a= \\frac{1}{\\sqrt{5}}$, $b=\\frac{5+\\sqrt{15}}{10}$, $c = \\frac{5-\\sqrt{15}}{10}$ and $d=\\frac{2}{\\sqrt{5}}$ (by plugging in the above floating point numbers into Wolfram Alpha). We find $\\gg^\\kk_o=0$ and $\\mathfrak{z}(\\kk)=0$. "
   ]
  },
  {
   "cell_type": "code",
   "execution_count": 18,
   "metadata": {},
   "outputs": [
    {
     "name": "stdout",
     "output_type": "stream",
     "text": [
      "[]\n"
     ]
    }
   ],
   "source": [
    "commutant = find_commutant(g, k)\n",
    "print(commutant)"
   ]
  },
  {
   "cell_type": "markdown",
   "metadata": {},
   "source": [
    "Hence the commutant is empty"
   ]
  },
  {
   "cell_type": "markdown",
   "metadata": {
    "pycharm": {
     "name": "#%% md\n"
    }
   },
   "source": [
    "## 5.) $\\SU(4)/\\Sp(2)$"
   ]
  },
  {
   "cell_type": "markdown",
   "metadata": {
    "pycharm": {
     "name": "#%% md\n"
    }
   },
   "source": [
    "The basis for $\\su(4)$ is given by tensor products of Pauli matrices.\n",
    "\n",
    "$$\n",
    "\\begin{align}\n",
    "\\gg &= \\Span\\{IX, IY, IZ, XI, XX, XY, XZ, YI, YX, YY, YZ, ZI, ZX, ZY, ZZ\\} \\\\\n",
    "\\end{align}\n",
    "$$\n",
    "\n",
    "Since $\\SU(4)/\\Sp(2)$ is a symmetric space, we can find a basis for $\\Sp(2)$ by defining an involution $\\theta:\\gg\\to\\gg$ such that $\\kk$ and $\\mm$ correspond to the positive and negative eigenspaces of $\\theta$, respectively. The involution that results in the split $\\su(4) = \\mm\\oplus\\sp(2)$ is \n",
    "\n",
    "$$\n",
    "\\begin{align}\n",
    "    \\theta(A) = J \\cdot A^* \\cdot J^T\n",
    "\\end{align}\n",
    "$$\n",
    "where \n",
    "$$\n",
    "\\begin{align}\n",
    "J = \\begin{pmatrix}\n",
    "0 & I_2 \\\\\n",
    "-I_2 & 0\n",
    "\\end{pmatrix}\n",
    "\\equiv iYI\n",
    "\\end{align}\n",
    "$$"
   ]
  },
  {
   "cell_type": "code",
   "execution_count": 51,
   "metadata": {},
   "outputs": [
    {
     "name": "stdout",
     "output_type": "stream",
     "text": [
      "1.00000*ZX \n",
      "1.00000*XZ \n",
      "1.00000*YI \n",
      "1.00000*YX \n",
      "1.00000*ZZ \n",
      "1.00000*YZ \n",
      "1.00000*IY \n",
      "1.00000*ZI \n",
      "1.00000*XI \n",
      "1.00000*XX \n"
     ]
    }
   ],
   "source": [
    "# Create a random matrix in SU(4)\n",
    "standard_basis = np.eye(15)\n",
    "elements_in_k = []\n",
    "for i in range(15):\n",
    "    coeffs = standard_basis[i]\n",
    "    mat = 1j * su4_vspace.construct_op(coeffs)\n",
    "    g = VectorSpace(su4_vspace.basis)\n",
    "\n",
    "    \n",
    "    # Use the involution to split off k\n",
    "    J = np.kron(1j * su2_dict['Y'], np.eye(2)) * np.sqrt(2)\n",
    "    theta_mat = J @ mat.conj() @ J.T\n",
    "\n",
    "    # m is the negative eigenspace\n",
    "    m = 0.5 * (mat - theta_mat)\n",
    "    # k is the positive eigenspace\n",
    "    k = 0.5 * (mat + theta_mat)\n",
    "\n",
    "    coeffs_m = g.project_coeffs(m).imag\n",
    "    coeffs_k = g.project_coeffs(k).imag\n",
    "    elements_in_k.append(coeffs_k)\n",
    "elements_in_k = np.stack(elements_in_k)\n",
    "basis = linearly_independent_set_svd(elements_in_k)\n",
    "for b in basis:\n",
    "    print(format_coeffs(b, su4_names))"
   ]
  },
  {
   "cell_type": "markdown",
   "metadata": {
    "pycharm": {
     "name": "#%% md\n"
    }
   },
   "source": [
    "Hence we find the bases\n",
    "\n",
    "$$\n",
    "\\begin{align}\n",
    "\\kk &= i\\,\\Span\\{IY ,XI ,XX ,XZ ,YI,YX ,YZ ,ZI ,ZX ,ZZ \\}\\\\\n",
    "\\mm &= i\\,\\Span\\{IX,IZ,XY,YY,ZY \\}\n",
    "\\end{align}\n",
    "$$\n",
    "\n",
    "with $\\gg^\\kk_o=0$ and $\\mathfrak{z}(\\kk)=0$. "
   ]
  },
  {
   "cell_type": "code",
   "execution_count": 20,
   "metadata": {},
   "outputs": [
    {
     "name": "stdout",
     "output_type": "stream",
     "text": [
      "[]\n"
     ]
    }
   ],
   "source": [
    "k = VectorSpace(np.stack([su4_dict['IY'],su4_dict['XI'],su4_dict['XX'],\n",
    "                          su4_dict['XZ'],su4_dict['YI'],su4_dict['YX'],\n",
    "                          su4_dict['YZ'],su4_dict['ZI'],su4_dict['ZX'], su4_dict['ZZ']]))\n",
    "commutant = find_commutant(g, k)\n",
    "print(commutant)"
   ]
  },
  {
   "cell_type": "markdown",
   "metadata": {},
   "source": [
    "Hence the commutant is empty"
   ]
  },
  {
   "cell_type": "markdown",
   "metadata": {
    "pycharm": {
     "name": "#%% md\n"
    }
   },
   "source": [
    "## 6.) $\\SU(4) / (\\SU(2)\\times\\SU(2))$"
   ]
  },
  {
   "cell_type": "markdown",
   "metadata": {
    "pycharm": {
     "name": "#%% md\n"
    }
   },
   "source": [
    "The basis for $\\su(4)$ is given by tensor products of Pauli matrices.\n",
    "\n",
    "$$\n",
    "\\begin{align}\n",
    "    \\gg &= \\Span\\{IX, IY, IZ, XI, XX, XY, XZ, YI, YX, YY, YZ, ZI, ZX, ZY, ZZ\\} \\\\\n",
    "\\end{align}\n",
    "$$\n",
    "\n",
    "We see that $\\kk$ is given by\n",
    "$$\n",
    "\\begin{align}\n",
    "    \\kk &= i\\:\\Span\\{XI, YI, ZI, IX, IY, IZ\\}\\\\\n",
    "\\end{align}\n",
    "$$\n",
    "hence we can immediately conclude that\n",
    "$$\n",
    "\\begin{align}\n",
    "    \\mm = i\\:\\Span\\{XX, YY, ZZ, XY, XZ, YX, YZ, ZX, ZY\\}\\\\\n",
    "\\end{align}\n",
    "$$\n",
    "which is the orthogonal complement of $\\kk$ in $\\gg$. Both centers are trivial, $\\gg^\\kk_o=0$ and $\\mathfrak{z}(\\kk)=0$. "
   ]
  },
  {
   "cell_type": "code",
   "execution_count": 21,
   "metadata": {},
   "outputs": [
    {
     "name": "stdout",
     "output_type": "stream",
     "text": [
      "[]\n"
     ]
    }
   ],
   "source": [
    "k = VectorSpace(np.stack([su4_dict['IY'],su4_dict['YI'],su4_dict['IX'],\n",
    "                          su4_dict['XI'],su4_dict['IZ'],su4_dict['ZI']]))\n",
    "commutant = find_commutant(g, k)\n",
    "print(commutant)"
   ]
  },
  {
   "cell_type": "markdown",
   "metadata": {},
   "source": [
    "The commutant is empty as expected."
   ]
  },
  {
   "cell_type": "markdown",
   "metadata": {
    "pycharm": {
     "name": "#%% md\n"
    }
   },
   "source": [
    "## 7.) $\\SO(4)/\\SU(2)$"
   ]
  },
  {
   "cell_type": "markdown",
   "metadata": {
    "pycharm": {
     "name": "#%% md\n"
    }
   },
   "source": [
    "A basis for $\\gg$ is given by the set of anti-symmetric matrices,\n",
    "\n",
    "$$\n",
    "\\begin{align}\n",
    "    \\gg = i\\:\\Span\\{IY, XY, YI, YX, YZ, ZY\\}\n",
    "\\end{align}\n",
    "$$\n",
    "\n",
    "It is quickly confirmed that \n",
    "\n",
    "$$\n",
    "\\begin{align}\n",
    "    \\kk &= i\\:\\Span\\{K_1, K_2, K_3\\}\\\\\n",
    "\\end{align}\n",
    "$$\n",
    "\n",
    "with\n",
    "\n",
    "$$\n",
    "\\begin{align}\n",
    "    K_1 &=(YI+IY),\\quad K_2=XY + YX,\\quad K_3 = YZ + ZY\n",
    "\\end{align}\n",
    "$$\n",
    "\n",
    "satisfies the commutation relations of $\\su(2)$. Since $\\SO(4)/\\SU(2)$ is a symmetric space, we could either use an involution to find $\\mm$ or construct the orthogonal complement of $\\kk$. Here, we do the latter."
   ]
  },
  {
   "cell_type": "code",
   "execution_count": 22,
   "metadata": {
    "pycharm": {
     "name": "#%%\n"
    }
   },
   "outputs": [
    {
     "name": "stdout",
     "output_type": "stream",
     "text": [
      "Dimension of m: 3\n",
      "-0.70711*XY + 0.70711*YX \n",
      "0.50000*IY + -0.50000*YI + 0.50000*YZ + -0.50000*ZY \n",
      "0.50000*IY + -0.50000*YI + -0.50000*YZ + 0.50000*ZY \n"
     ]
    }
   ],
   "source": [
    "I = np.eye(2, dtype=complex)\n",
    "g = VectorSpace(so4_vspace.basis)\n",
    "# Create the su(2) basis within su(4)\n",
    "k = np.stack([np.kron(su2_dict['Y'], I) + np.kron(I, su2_dict['Y']),\n",
    "              np.kron(su2_dict['Y'], su2_dict['X']) + np.kron(su2_dict['X'], su2_dict['Y']),\n",
    "              np.kron(su2_dict['Z'], su2_dict['Y']) + np.kron(su2_dict['Y'], su2_dict['Z'])]) / 2\n",
    "k = VectorSpace(k)\n",
    "subspace_k = []\n",
    "# Embed k in g\n",
    "for i, p in enumerate(k):\n",
    "    subspace_k.append(g.project_coeffs(p))\n",
    "    \n",
    "# Find the kernel of k\n",
    "k_ortho = spla.null_space(np.stack(subspace_k))\n",
    "m = np.einsum(\"in,ijk->njk\", k_ortho, g.basis)\n",
    "\n",
    "# Print the basis of m in terms of the pauli matrices\n",
    "print(\"Dimension of m:\", m.shape[0])\n",
    "for m_i in m:\n",
    "    coeffs = g.project_coeffs(m_i).real\n",
    "    print(format_coeffs(coeffs, so4_names))\n",
    "    "
   ]
  },
  {
   "cell_type": "markdown",
   "metadata": {
    "pycharm": {
     "name": "#%% md\n"
    }
   },
   "source": [
    "Hence we obtain\n",
    "\n",
    "$$\n",
    "\\begin{align}\n",
    "    \\mm = i\\:\\Span\\{YX-XY, IY-YI + YZ-ZY, IY-YI + ZY- YZ\\}\n",
    "\\end{align}\n",
    "$$\n",
    "\n",
    "Both centers are trivial, $\\gg^\\kk_o=0$ and $\\mathfrak{z}(\\kk)=0$. "
   ]
  },
  {
   "cell_type": "code",
   "execution_count": 23,
   "metadata": {},
   "outputs": [
    {
     "name": "stdout",
     "output_type": "stream",
     "text": [
      "[]\n"
     ]
    }
   ],
   "source": [
    "commutant = find_commutant(g, k)\n",
    "print(commutant)"
   ]
  },
  {
   "cell_type": "markdown",
   "metadata": {},
   "source": [
    "Hence the commutant is empty"
   ]
  },
  {
   "cell_type": "markdown",
   "metadata": {
    "pycharm": {
     "name": "#%% md\n"
    }
   },
   "source": [
    "## 8.) $\\SU(4)/\\SU(3)$"
   ]
  },
  {
   "cell_type": "code",
   "execution_count": 50,
   "metadata": {
    "pycharm": {
     "name": "#%%\n"
    }
   },
   "outputs": [
    {
     "name": "stdout",
     "output_type": "stream",
     "text": [
      "-0.70711*YI + 0.70711*YZ \n",
      "0.70711*IY + -0.70711*ZY \n",
      "-0.70711*XY + 0.70711*YX \n",
      "1.00000*ZZ \n",
      "1.00000*IZ \n",
      "-0.70711*XI + 0.70711*XZ \n",
      "1.00000*ZI \n",
      "-0.70711*IX + 0.70711*ZX \n",
      "-0.70711*XX + -0.70711*YY \n"
     ]
    }
   ],
   "source": [
    "# Create a random matrix in SU(4)\n",
    "standard_basis = np.eye(15)\n",
    "elements_in_k = []\n",
    "for i in range(15):\n",
    "    coeffs = standard_basis[i]\n",
    "    mat = 1j * su4_vspace.construct_op(coeffs)\n",
    "    g = VectorSpace(su4_vspace.basis)\n",
    "\n",
    "    # Use the involution to split off k\n",
    "    p,q = (1,3)\n",
    "    Ip = np.eye(p)\n",
    "    Iq = np.eye(q)\n",
    "    zero_pq = np.zeros((p, q))\n",
    "    Ipq = np.block([[-Ip, zero_pq],\n",
    "                    [zero_pq.T, Iq]])\n",
    "\n",
    "    theta_mat = Ipq @ mat @ Ipq\n",
    "\n",
    "    # m is the negative eigenspace\n",
    "    m = 0.5 * (mat - theta_mat)\n",
    "    # k is the positive eigenspace\n",
    "    k = 0.5 * (mat + theta_mat)\n",
    "\n",
    "    coeffs_m = g.project_coeffs(m).imag\n",
    "    coeffs_k = g.project_coeffs(k).imag\n",
    "    elements_in_k.append(coeffs_k)\n",
    "elements_in_k = np.stack(elements_in_k)\n",
    "basis = linearly_independent_set_svd(elements_in_k)\n",
    "for b in basis:\n",
    "    print(format_coeffs(b, su4_names))"
   ]
  },
  {
   "cell_type": "markdown",
   "metadata": {
    "pycharm": {
     "name": "#%% md\n"
    }
   },
   "source": [
    "From which we quickly find\n",
    "\n",
    "$$\n",
    "\\begin{align}\n",
    "    \\mm &= i\\:\\Span\\{(I+Z)X, X(I+Z),(I+Z)Y, Y(I+Z),XY+YX, XX-YY\\}\\\\\n",
    "    \\kk &= i\\:\\Span\\{(I-Z)X, (I-Z)Y, X(I-Z), Y(I-Z), XY-YX, XX+YY, IZ, ZI, ZZ\\}\n",
    "\\end{align}\n",
    "$$\n"
   ]
  },
  {
   "cell_type": "code",
   "execution_count": 25,
   "metadata": {},
   "outputs": [
    {
     "name": "stdout",
     "output_type": "stream",
     "text": [
      "0.57735*IZ + 0.57735*ZI + -0.57735*ZZ \n"
     ]
    }
   ],
   "source": [
    "k = VectorSpace(np.stack([su4_dict['IX']+ su4_dict['ZX'],su4_dict['IY']+ su4_dict['ZY'],\n",
    "                          su4_dict['XI']+ su4_dict['XZ'],su4_dict['YI']+ su4_dict['YZ'],\n",
    "                          su4_dict['XY']- su4_dict['YX'],su4_dict['XX']+su4_dict['YY'],\n",
    "                          su4_dict['IZ'], su4_dict['ZI'],su4_dict['ZZ']]))\n",
    "commutant = find_commutant(g, k)\n",
    "for b in commutant.T:\n",
    "    print(format_coeffs(b, su4_names))"
   ]
  },
  {
   "cell_type": "markdown",
   "metadata": {},
   "source": [
    "Hence the commutant is \n",
    "\n",
    "$$\n",
    "\\gg^\\kk = \\{IZ+ZI-ZZ\\}\n",
    "$$"
   ]
  },
  {
   "cell_type": "markdown",
   "metadata": {
    "pycharm": {
     "name": "#%% md\n"
    }
   },
   "source": [
    "## 9.) $\\SO(4) / \\SO(3)$ "
   ]
  },
  {
   "cell_type": "code",
   "execution_count": 69,
   "metadata": {},
   "outputs": [
    {
     "name": "stdout",
     "output_type": "stream",
     "text": [
      "-0.70711*XY + 0.70711*YX \n",
      "-0.70711*YI + 0.70711*YZ \n",
      "-0.70711*IY + 0.70711*ZY \n"
     ]
    }
   ],
   "source": [
    "# Create a random matrix in SU(4)\n",
    "standard_basis = np.eye(6)\n",
    "elements_in_k = []\n",
    "for i in range(6):\n",
    "    coeffs = standard_basis[i]\n",
    "    mat = 1j * so4_vspace.construct_op(coeffs)\n",
    "    g = VectorSpace(so4_vspace.basis)\n",
    "\n",
    "    # Use the involution to split off k\n",
    "    p,q = (1,3)\n",
    "    Ip = np.eye(p)\n",
    "    Iq = np.eye(q)\n",
    "    zero_pq = np.zeros((p, q))\n",
    "    Ipq = np.block([[-Ip, zero_pq],\n",
    "                    [zero_pq.T, Iq]])\n",
    "\n",
    "    theta_mat = Ipq @ mat @ Ipq\n",
    "\n",
    "    # m is the negative eigenspace\n",
    "    m = 0.5 * (mat - theta_mat)\n",
    "    # k is the positive eigenspace\n",
    "    k = 0.5 * (mat + theta_mat)\n",
    "\n",
    "    coeffs_m = g.project_coeffs(m).imag\n",
    "    coeffs_k = g.project_coeffs(k).imag\n",
    "    elements_in_k.append(coeffs_k)\n",
    "elements_in_k = np.stack(elements_in_k)\n",
    "basis = linearly_independent_set_svd(elements_in_k)\n",
    "for b in basis:\n",
    "    print(format_coeffs(b, so4_names))"
   ]
  },
  {
   "cell_type": "markdown",
   "metadata": {
    "pycharm": {
     "name": "#%% md\n"
    }
   },
   "source": [
    "From which we quickly find\n",
    "\n",
    "$$\n",
    "\\begin{align}\n",
    "    \\mm &= i\\:\\Span\\{(I+Z)Y, Y(I+Z), XY+YX\\}\\\\\n",
    "    \\kk &= i\\:\\Span\\{(I-Z)Y, Y(I-Z), XY-YX\\}\n",
    "\\end{align}\n",
    "$$\n"
   ]
  },
  {
   "cell_type": "code",
   "execution_count": 71,
   "metadata": {
    "scrolled": true
   },
   "outputs": [
    {
     "name": "stdout",
     "output_type": "stream",
     "text": [
      "[]\n"
     ]
    }
   ],
   "source": [
    "b = get_pauli_basis(2)\n",
    "k = VectorSpace(np.stack([b['IY'] - b['ZY'], b['YI'] - b['YZ'], b['XY']-b['YX']]))\n",
    "commutant = find_commutant(g, k)\n",
    "print(commutant)\n",
    "for b in commutant.T:\n",
    "    print(format_coeffs(b, su4_names))"
   ]
  },
  {
   "cell_type": "markdown",
   "metadata": {},
   "source": [
    "# $\\SU(8) / \\mathrm{S}(\\U(2)\\times\\U(6))$ "
   ]
  },
  {
   "cell_type": "code",
   "execution_count": 72,
   "metadata": {},
   "outputs": [],
   "source": [
    "su8_dict = get_pauli_basis(3)\n",
    "su8_names = list(su8_dict.keys())\n",
    "su8_vspace = VectorSpace(np.stack(list(su8_dict.values())))"
   ]
  },
  {
   "cell_type": "code",
   "execution_count": 73,
   "metadata": {},
   "outputs": [
    {
     "name": "stdout",
     "output_type": "stream",
     "text": [
      "k\n",
      "__________\n",
      "-1.00000*IIX \n",
      "1.00000*ZIX \n",
      "-1.00000*IIZ \n",
      "1.00000*ZIZ \n",
      "-0.70711*IXX + 0.70711*ZXX \n",
      "-0.70711*IXZ + 0.70711*ZXZ \n",
      "-0.70711*IYX + 0.70711*ZYX \n",
      "-0.70711*IYZ + 0.70711*ZYZ \n",
      "-1.00000*IZX \n",
      "1.00000*ZZX \n",
      "-1.00000*IZZ \n",
      "1.00000*ZZZ \n",
      "-0.70711*XIX + 0.70711*XZX \n",
      "-0.70711*XIZ + 0.70711*XZZ \n",
      "-0.70711*XXX + -0.70711*YYX \n",
      "-0.70711*XXZ + -0.70711*YYZ \n",
      "-0.70711*XYX + 0.70711*YXX \n",
      "-0.70711*XYZ + 0.70711*YXZ \n",
      "-0.70711*XIY + 0.70711*XZY \n",
      "-0.70711*XXI + -0.70711*YYI \n",
      "-0.70711*YIX + 0.70711*YZX \n",
      "-0.70711*YIZ + 0.70711*YZZ \n",
      "-0.70711*XYY + 0.70711*YXY \n",
      "0.70711*XII + -0.70711*XZI \n",
      "0.70711*XXY + 0.70711*YYY \n",
      "0.70711*XYI + -0.70711*YXI \n",
      "-0.70711*YIY + 0.70711*YZY \n",
      "-0.70711*YII + 0.70711*YZI \n",
      "-1.00000*IIY \n",
      "1.00000*ZIY \n",
      "-0.70711*IXI + 0.70711*ZXI \n",
      "-0.70711*IXY + 0.70711*ZXY \n",
      "-0.70711*IYI + 0.70711*ZYI \n",
      "-0.70711*IYY + 0.70711*ZYY \n",
      "-1.00000*IZI \n",
      "1.00000*ZZI \n",
      "-1.00000*IZY \n",
      "1.00000*ZZY \n",
      "-1.00000*ZII \n",
      "m\n",
      "__________\n",
      "-0.70711*IXI + -0.70711*ZXI \n",
      "-0.70711*IXY + -0.70711*ZXY \n",
      "-0.70711*IYI + -0.70711*ZYI \n",
      "-0.70711*IYY + -0.70711*ZYY \n",
      "-0.70711*XII + -0.70711*XZI \n",
      "-0.70711*XIY + -0.70711*XZY \n",
      "-0.70711*XXI + 0.70711*YYI \n",
      "-0.70711*XXY + 0.70711*YYY \n",
      "-0.70711*XYI + -0.70711*YXI \n",
      "-0.70711*XYY + -0.70711*YXY \n",
      "0.70711*XIX + 0.70711*XZX \n",
      "0.70711*XIZ + 0.70711*XZZ \n",
      "-0.70711*YII + -0.70711*YZI \n",
      "-0.70711*YIY + -0.70711*YZY \n",
      "0.70711*XYX + 0.70711*YXX \n",
      "0.70711*XYZ + 0.70711*YXZ \n",
      "-0.70711*XXX + 0.70711*YYX \n",
      "-0.70711*XXZ + 0.70711*YYZ \n",
      "0.70711*YIX + 0.70711*YZX \n",
      "0.70711*YIZ + 0.70711*YZZ \n",
      "0.70711*IXX + 0.70711*ZXX \n",
      "0.70711*IXZ + 0.70711*ZXZ \n",
      "0.70711*IYX + 0.70711*ZYX \n",
      "0.70711*IYZ + 0.70711*ZYZ \n"
     ]
    }
   ],
   "source": [
    "# Create a random matrix in SU(4)\n",
    "standard_basis = np.eye(63)\n",
    "elements_in_k = []\n",
    "elements_in_m = []\n",
    "for i in range(63):\n",
    "    coeffs = standard_basis[i]\n",
    "    mat = 1j * su8_vspace.construct_op(coeffs)\n",
    "    g = VectorSpace(su8_vspace.basis)\n",
    "\n",
    "    # Use the involution to split off k\n",
    "    p,q = (2,6)\n",
    "    Ip = np.eye(p)\n",
    "    Iq = np.eye(q)\n",
    "    zero_pq = np.zeros((p, q))\n",
    "    Ipq = np.block([[-Ip, zero_pq],\n",
    "                    [zero_pq.T, Iq]])\n",
    "\n",
    "    theta_mat = Ipq @ mat @ Ipq\n",
    "\n",
    "    # m is the negative eigenspace\n",
    "    m = 0.5 * (mat - theta_mat)\n",
    "    # k is the positive eigenspace\n",
    "    k = 0.5 * (mat + theta_mat)\n",
    "\n",
    "    coeffs_m = g.project_coeffs(m).imag\n",
    "    coeffs_k = g.project_coeffs(k).imag\n",
    "    elements_in_k.append(coeffs_k)\n",
    "    elements_in_m.append(coeffs_m)\n",
    "    \n",
    "elements_in_k = np.stack(elements_in_k)\n",
    "elements_in_m = np.stack(elements_in_m)\n",
    "print(\"k\")\n",
    "print(\"_\"*10)\n",
    "basis = linearly_independent_set_svd(elements_in_k)\n",
    "k_basis = []\n",
    "for b in basis:\n",
    "    k_basis.append(g.construct_op(b))\n",
    "    print(format_coeffs(b, su8_names))\n",
    "k = VectorSpace(np.stack(k_basis))\n",
    "\n",
    "print(\"m\")\n",
    "print(\"_\"*10)\n",
    "basis = linearly_independent_set_svd(elements_in_m)\n",
    "for b in basis:\n",
    "    print(format_coeffs(b, su8_names))"
   ]
  },
  {
   "cell_type": "code",
   "execution_count": 74,
   "metadata": {},
   "outputs": [
    {
     "name": "stdout",
     "output_type": "stream",
     "text": [
      "(63, 8, 8)\n",
      "(39, 8, 8)\n",
      "[]\n"
     ]
    }
   ],
   "source": [
    "print(g.shape)\n",
    "print(k.shape)\n",
    "commutant = find_commutant(g, k)\n",
    "print(commutant)"
   ]
  },
  {
   "cell_type": "code",
   "execution_count": null,
   "metadata": {},
   "outputs": [],
   "source": []
  },
  {
   "cell_type": "code",
   "execution_count": null,
   "metadata": {},
   "outputs": [],
   "source": []
  }
 ],
 "metadata": {
  "kernelspec": {
   "display_name": "Python 3 (ipykernel)",
   "language": "python",
   "name": "python3"
  },
  "language_info": {
   "codemirror_mode": {
    "name": "ipython",
    "version": 3
   },
   "file_extension": ".py",
   "mimetype": "text/x-python",
   "name": "python",
   "nbconvert_exporter": "python",
   "pygments_lexer": "ipython3",
   "version": "3.9.16"
  }
 },
 "nbformat": 4,
 "nbformat_minor": 1
}
